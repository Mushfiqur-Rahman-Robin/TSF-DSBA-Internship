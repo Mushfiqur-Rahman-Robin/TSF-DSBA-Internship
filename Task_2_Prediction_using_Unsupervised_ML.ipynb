{
  "nbformat": 4,
  "nbformat_minor": 0,
  "metadata": {
    "colab": {
      "name": "Task 2 : Prediction using Unsupervised ML",
      "provenance": [],
      "collapsed_sections": []
    },
    "kernelspec": {
      "name": "python3",
      "display_name": "Python 3"
    }
  },
  "cells": [
    {
      "cell_type": "markdown",
      "metadata": {
        "id": "CWuu8418w3wH"
      },
      "source": [
        "# **Task 2 : Prediction using Unsupervised ML**"
      ]
    },
    {
      "cell_type": "markdown",
      "metadata": {
        "id": "88-GAJITxUvg"
      },
      "source": [
        "**Title :** *K-Means Clustering on Iris Dataset to predict the optimum number of clusters and represent it visually*"
      ]
    },
    {
      "cell_type": "markdown",
      "metadata": {
        "id": "mlHIjH-Nx5ov"
      },
      "source": [
        "**Author :** Mushfiqur Rahman "
      ]
    },
    {
      "cell_type": "markdown",
      "metadata": {
        "id": "7tIE2DG5ycwv"
      },
      "source": [
        "# **Importing libraries**"
      ]
    },
    {
      "cell_type": "code",
      "metadata": {
        "id": "J3RwSpi8QNoT"
      },
      "source": [
        "#importing libraries\r\n",
        "import numpy as np\r\n",
        "import matplotlib.pyplot as plt\r\n",
        "import pandas as pd\r\n",
        "from sklearn import datasets\r\n",
        "import seaborn as sns"
      ],
      "execution_count": 1,
      "outputs": []
    },
    {
      "cell_type": "markdown",
      "metadata": {
        "id": "BrV0E6dxysHi"
      },
      "source": [
        "# **Importing Dataset**"
      ]
    },
    {
      "cell_type": "code",
      "metadata": {
        "colab": {
          "base_uri": "https://localhost:8080/",
          "height": 204
        },
        "id": "EpZuO4ewVlxS",
        "outputId": "a95fc64e-05cd-478f-f38c-0cd307aad441"
      },
      "source": [
        "iris = datasets.load_iris() #Load the iris dataset\r\n",
        "iris_df = pd.DataFrame(iris.data, columns = iris.feature_names)\r\n",
        "iris_df.head() #See the first 5 rows"
      ],
      "execution_count": 2,
      "outputs": [
        {
          "output_type": "execute_result",
          "data": {
            "text/html": [
              "<div>\n",
              "<style scoped>\n",
              "    .dataframe tbody tr th:only-of-type {\n",
              "        vertical-align: middle;\n",
              "    }\n",
              "\n",
              "    .dataframe tbody tr th {\n",
              "        vertical-align: top;\n",
              "    }\n",
              "\n",
              "    .dataframe thead th {\n",
              "        text-align: right;\n",
              "    }\n",
              "</style>\n",
              "<table border=\"1\" class=\"dataframe\">\n",
              "  <thead>\n",
              "    <tr style=\"text-align: right;\">\n",
              "      <th></th>\n",
              "      <th>sepal length (cm)</th>\n",
              "      <th>sepal width (cm)</th>\n",
              "      <th>petal length (cm)</th>\n",
              "      <th>petal width (cm)</th>\n",
              "    </tr>\n",
              "  </thead>\n",
              "  <tbody>\n",
              "    <tr>\n",
              "      <th>0</th>\n",
              "      <td>5.1</td>\n",
              "      <td>3.5</td>\n",
              "      <td>1.4</td>\n",
              "      <td>0.2</td>\n",
              "    </tr>\n",
              "    <tr>\n",
              "      <th>1</th>\n",
              "      <td>4.9</td>\n",
              "      <td>3.0</td>\n",
              "      <td>1.4</td>\n",
              "      <td>0.2</td>\n",
              "    </tr>\n",
              "    <tr>\n",
              "      <th>2</th>\n",
              "      <td>4.7</td>\n",
              "      <td>3.2</td>\n",
              "      <td>1.3</td>\n",
              "      <td>0.2</td>\n",
              "    </tr>\n",
              "    <tr>\n",
              "      <th>3</th>\n",
              "      <td>4.6</td>\n",
              "      <td>3.1</td>\n",
              "      <td>1.5</td>\n",
              "      <td>0.2</td>\n",
              "    </tr>\n",
              "    <tr>\n",
              "      <th>4</th>\n",
              "      <td>5.0</td>\n",
              "      <td>3.6</td>\n",
              "      <td>1.4</td>\n",
              "      <td>0.2</td>\n",
              "    </tr>\n",
              "  </tbody>\n",
              "</table>\n",
              "</div>"
            ],
            "text/plain": [
              "   sepal length (cm)  sepal width (cm)  petal length (cm)  petal width (cm)\n",
              "0                5.1               3.5                1.4               0.2\n",
              "1                4.9               3.0                1.4               0.2\n",
              "2                4.7               3.2                1.3               0.2\n",
              "3                4.6               3.1                1.5               0.2\n",
              "4                5.0               3.6                1.4               0.2"
            ]
          },
          "metadata": {
            "tags": []
          },
          "execution_count": 2
        }
      ]
    },
    {
      "cell_type": "markdown",
      "metadata": {
        "id": "3Vsvqspgy8M4"
      },
      "source": [
        "# **Analyzing data**"
      ]
    },
    {
      "cell_type": "code",
      "metadata": {
        "colab": {
          "base_uri": "https://localhost:8080/"
        },
        "id": "Sa-tmLicX9xd",
        "outputId": "1c4d4564-4721-443b-bbe7-88aecf97fcc3"
      },
      "source": [
        "iris.target"
      ],
      "execution_count": 3,
      "outputs": [
        {
          "output_type": "execute_result",
          "data": {
            "text/plain": [
              "array([0, 0, 0, 0, 0, 0, 0, 0, 0, 0, 0, 0, 0, 0, 0, 0, 0, 0, 0, 0, 0, 0,\n",
              "       0, 0, 0, 0, 0, 0, 0, 0, 0, 0, 0, 0, 0, 0, 0, 0, 0, 0, 0, 0, 0, 0,\n",
              "       0, 0, 0, 0, 0, 0, 1, 1, 1, 1, 1, 1, 1, 1, 1, 1, 1, 1, 1, 1, 1, 1,\n",
              "       1, 1, 1, 1, 1, 1, 1, 1, 1, 1, 1, 1, 1, 1, 1, 1, 1, 1, 1, 1, 1, 1,\n",
              "       1, 1, 1, 1, 1, 1, 1, 1, 1, 1, 1, 1, 2, 2, 2, 2, 2, 2, 2, 2, 2, 2,\n",
              "       2, 2, 2, 2, 2, 2, 2, 2, 2, 2, 2, 2, 2, 2, 2, 2, 2, 2, 2, 2, 2, 2,\n",
              "       2, 2, 2, 2, 2, 2, 2, 2, 2, 2, 2, 2, 2, 2, 2, 2, 2, 2])"
            ]
          },
          "metadata": {
            "tags": []
          },
          "execution_count": 3
        }
      ]
    },
    {
      "cell_type": "code",
      "metadata": {
        "colab": {
          "base_uri": "https://localhost:8080/"
        },
        "id": "YdfQzH8QV40b",
        "outputId": "990a54d8-3a5f-44b0-ead5-a798d58cbb07"
      },
      "source": [
        "iris.target_names"
      ],
      "execution_count": 4,
      "outputs": [
        {
          "output_type": "execute_result",
          "data": {
            "text/plain": [
              "array(['setosa', 'versicolor', 'virginica'], dtype='<U10')"
            ]
          },
          "metadata": {
            "tags": []
          },
          "execution_count": 4
        }
      ]
    },
    {
      "cell_type": "code",
      "metadata": {
        "id": "A2JLqvCLWTTN"
      },
      "source": [
        "target_df = pd.DataFrame(iris.target, columns=['Target'])"
      ],
      "execution_count": 5,
      "outputs": []
    },
    {
      "cell_type": "code",
      "metadata": {
        "colab": {
          "base_uri": "https://localhost:8080/",
          "height": 204
        },
        "id": "KRVRxdabZfTn",
        "outputId": "94fb41e7-a2fd-44f5-d7c2-5a2bad3df864"
      },
      "source": [
        "target_df.head()"
      ],
      "execution_count": 6,
      "outputs": [
        {
          "output_type": "execute_result",
          "data": {
            "text/html": [
              "<div>\n",
              "<style scoped>\n",
              "    .dataframe tbody tr th:only-of-type {\n",
              "        vertical-align: middle;\n",
              "    }\n",
              "\n",
              "    .dataframe tbody tr th {\n",
              "        vertical-align: top;\n",
              "    }\n",
              "\n",
              "    .dataframe thead th {\n",
              "        text-align: right;\n",
              "    }\n",
              "</style>\n",
              "<table border=\"1\" class=\"dataframe\">\n",
              "  <thead>\n",
              "    <tr style=\"text-align: right;\">\n",
              "      <th></th>\n",
              "      <th>Target</th>\n",
              "    </tr>\n",
              "  </thead>\n",
              "  <tbody>\n",
              "    <tr>\n",
              "      <th>0</th>\n",
              "      <td>0</td>\n",
              "    </tr>\n",
              "    <tr>\n",
              "      <th>1</th>\n",
              "      <td>0</td>\n",
              "    </tr>\n",
              "    <tr>\n",
              "      <th>2</th>\n",
              "      <td>0</td>\n",
              "    </tr>\n",
              "    <tr>\n",
              "      <th>3</th>\n",
              "      <td>0</td>\n",
              "    </tr>\n",
              "    <tr>\n",
              "      <th>4</th>\n",
              "      <td>0</td>\n",
              "    </tr>\n",
              "  </tbody>\n",
              "</table>\n",
              "</div>"
            ],
            "text/plain": [
              "   Target\n",
              "0       0\n",
              "1       0\n",
              "2       0\n",
              "3       0\n",
              "4       0"
            ]
          },
          "metadata": {
            "tags": []
          },
          "execution_count": 6
        }
      ]
    },
    {
      "cell_type": "code",
      "metadata": {
        "colab": {
          "base_uri": "https://localhost:8080/"
        },
        "id": "QJaRsWjYZmOe",
        "outputId": "db38b197-cb65-4c82-bb8b-0a7cfb208b8a"
      },
      "source": [
        "iris_df.shape"
      ],
      "execution_count": 7,
      "outputs": [
        {
          "output_type": "execute_result",
          "data": {
            "text/plain": [
              "(150, 4)"
            ]
          },
          "metadata": {
            "tags": []
          },
          "execution_count": 7
        }
      ]
    },
    {
      "cell_type": "code",
      "metadata": {
        "colab": {
          "base_uri": "https://localhost:8080/"
        },
        "id": "0JdtWXT5Zqg0",
        "outputId": "0d765edd-6676-4741-85e0-98b6ca14ae3f"
      },
      "source": [
        "target_df.shape"
      ],
      "execution_count": 8,
      "outputs": [
        {
          "output_type": "execute_result",
          "data": {
            "text/plain": [
              "(150, 1)"
            ]
          },
          "metadata": {
            "tags": []
          },
          "execution_count": 8
        }
      ]
    },
    {
      "cell_type": "code",
      "metadata": {
        "colab": {
          "base_uri": "https://localhost:8080/",
          "height": 297
        },
        "id": "ecqIYAMbZsLh",
        "outputId": "ecf53872-b68d-49b2-dcc7-74f311977848"
      },
      "source": [
        "iris_df.describe()"
      ],
      "execution_count": 9,
      "outputs": [
        {
          "output_type": "execute_result",
          "data": {
            "text/html": [
              "<div>\n",
              "<style scoped>\n",
              "    .dataframe tbody tr th:only-of-type {\n",
              "        vertical-align: middle;\n",
              "    }\n",
              "\n",
              "    .dataframe tbody tr th {\n",
              "        vertical-align: top;\n",
              "    }\n",
              "\n",
              "    .dataframe thead th {\n",
              "        text-align: right;\n",
              "    }\n",
              "</style>\n",
              "<table border=\"1\" class=\"dataframe\">\n",
              "  <thead>\n",
              "    <tr style=\"text-align: right;\">\n",
              "      <th></th>\n",
              "      <th>sepal length (cm)</th>\n",
              "      <th>sepal width (cm)</th>\n",
              "      <th>petal length (cm)</th>\n",
              "      <th>petal width (cm)</th>\n",
              "    </tr>\n",
              "  </thead>\n",
              "  <tbody>\n",
              "    <tr>\n",
              "      <th>count</th>\n",
              "      <td>150.000000</td>\n",
              "      <td>150.000000</td>\n",
              "      <td>150.000000</td>\n",
              "      <td>150.000000</td>\n",
              "    </tr>\n",
              "    <tr>\n",
              "      <th>mean</th>\n",
              "      <td>5.843333</td>\n",
              "      <td>3.057333</td>\n",
              "      <td>3.758000</td>\n",
              "      <td>1.199333</td>\n",
              "    </tr>\n",
              "    <tr>\n",
              "      <th>std</th>\n",
              "      <td>0.828066</td>\n",
              "      <td>0.435866</td>\n",
              "      <td>1.765298</td>\n",
              "      <td>0.762238</td>\n",
              "    </tr>\n",
              "    <tr>\n",
              "      <th>min</th>\n",
              "      <td>4.300000</td>\n",
              "      <td>2.000000</td>\n",
              "      <td>1.000000</td>\n",
              "      <td>0.100000</td>\n",
              "    </tr>\n",
              "    <tr>\n",
              "      <th>25%</th>\n",
              "      <td>5.100000</td>\n",
              "      <td>2.800000</td>\n",
              "      <td>1.600000</td>\n",
              "      <td>0.300000</td>\n",
              "    </tr>\n",
              "    <tr>\n",
              "      <th>50%</th>\n",
              "      <td>5.800000</td>\n",
              "      <td>3.000000</td>\n",
              "      <td>4.350000</td>\n",
              "      <td>1.300000</td>\n",
              "    </tr>\n",
              "    <tr>\n",
              "      <th>75%</th>\n",
              "      <td>6.400000</td>\n",
              "      <td>3.300000</td>\n",
              "      <td>5.100000</td>\n",
              "      <td>1.800000</td>\n",
              "    </tr>\n",
              "    <tr>\n",
              "      <th>max</th>\n",
              "      <td>7.900000</td>\n",
              "      <td>4.400000</td>\n",
              "      <td>6.900000</td>\n",
              "      <td>2.500000</td>\n",
              "    </tr>\n",
              "  </tbody>\n",
              "</table>\n",
              "</div>"
            ],
            "text/plain": [
              "       sepal length (cm)  sepal width (cm)  petal length (cm)  petal width (cm)\n",
              "count         150.000000        150.000000         150.000000        150.000000\n",
              "mean            5.843333          3.057333           3.758000          1.199333\n",
              "std             0.828066          0.435866           1.765298          0.762238\n",
              "min             4.300000          2.000000           1.000000          0.100000\n",
              "25%             5.100000          2.800000           1.600000          0.300000\n",
              "50%             5.800000          3.000000           4.350000          1.300000\n",
              "75%             6.400000          3.300000           5.100000          1.800000\n",
              "max             7.900000          4.400000           6.900000          2.500000"
            ]
          },
          "metadata": {
            "tags": []
          },
          "execution_count": 9
        }
      ]
    },
    {
      "cell_type": "code",
      "metadata": {
        "colab": {
          "base_uri": "https://localhost:8080/",
          "height": 173
        },
        "id": "YqxCyidoZzh-",
        "outputId": "119f5951-928f-478c-83c1-6f5ed1aae383"
      },
      "source": [
        "iris_df.corr()"
      ],
      "execution_count": 10,
      "outputs": [
        {
          "output_type": "execute_result",
          "data": {
            "text/html": [
              "<div>\n",
              "<style scoped>\n",
              "    .dataframe tbody tr th:only-of-type {\n",
              "        vertical-align: middle;\n",
              "    }\n",
              "\n",
              "    .dataframe tbody tr th {\n",
              "        vertical-align: top;\n",
              "    }\n",
              "\n",
              "    .dataframe thead th {\n",
              "        text-align: right;\n",
              "    }\n",
              "</style>\n",
              "<table border=\"1\" class=\"dataframe\">\n",
              "  <thead>\n",
              "    <tr style=\"text-align: right;\">\n",
              "      <th></th>\n",
              "      <th>sepal length (cm)</th>\n",
              "      <th>sepal width (cm)</th>\n",
              "      <th>petal length (cm)</th>\n",
              "      <th>petal width (cm)</th>\n",
              "    </tr>\n",
              "  </thead>\n",
              "  <tbody>\n",
              "    <tr>\n",
              "      <th>sepal length (cm)</th>\n",
              "      <td>1.000000</td>\n",
              "      <td>-0.117570</td>\n",
              "      <td>0.871754</td>\n",
              "      <td>0.817941</td>\n",
              "    </tr>\n",
              "    <tr>\n",
              "      <th>sepal width (cm)</th>\n",
              "      <td>-0.117570</td>\n",
              "      <td>1.000000</td>\n",
              "      <td>-0.428440</td>\n",
              "      <td>-0.366126</td>\n",
              "    </tr>\n",
              "    <tr>\n",
              "      <th>petal length (cm)</th>\n",
              "      <td>0.871754</td>\n",
              "      <td>-0.428440</td>\n",
              "      <td>1.000000</td>\n",
              "      <td>0.962865</td>\n",
              "    </tr>\n",
              "    <tr>\n",
              "      <th>petal width (cm)</th>\n",
              "      <td>0.817941</td>\n",
              "      <td>-0.366126</td>\n",
              "      <td>0.962865</td>\n",
              "      <td>1.000000</td>\n",
              "    </tr>\n",
              "  </tbody>\n",
              "</table>\n",
              "</div>"
            ],
            "text/plain": [
              "                   sepal length (cm)  ...  petal width (cm)\n",
              "sepal length (cm)           1.000000  ...          0.817941\n",
              "sepal width (cm)           -0.117570  ...         -0.366126\n",
              "petal length (cm)           0.871754  ...          0.962865\n",
              "petal width (cm)            0.817941  ...          1.000000\n",
              "\n",
              "[4 rows x 4 columns]"
            ]
          },
          "metadata": {
            "tags": []
          },
          "execution_count": 10
        }
      ]
    },
    {
      "cell_type": "code",
      "metadata": {
        "id": "p92PMqLTzJ3r"
      },
      "source": [
        "import numpy as np \r\n",
        "import matplotlib.pyplot as plt \r\n",
        "from sklearn.cluster import KMeans"
      ],
      "execution_count": 11,
      "outputs": []
    },
    {
      "cell_type": "markdown",
      "metadata": {
        "id": "tGsQMUIUzwKn"
      },
      "source": [
        "# **Finding optimum number of clusters using Elbow Method**"
      ]
    },
    {
      "cell_type": "code",
      "metadata": {
        "colab": {
          "base_uri": "https://localhost:8080/",
          "height": 350
        },
        "id": "jAoosy7mvQuY",
        "outputId": "32236ed1-8183-4583-c322-4f2778c90932"
      },
      "source": [
        "clusters= range(1,11)\r\n",
        "wcss = []\r\n",
        "\r\n",
        "for k in clusters:\r\n",
        "    model=KMeans(n_clusters=k)\r\n",
        "    model.fit(iris_df)\r\n",
        "    prediction=model.predict(iris_df) \r\n",
        "    wcss.append(model.inertia_)\r\n",
        "\r\n",
        "plt.figure(figsize = (10,5))\r\n",
        "plt.plot(clusters,wcss,'bx-', c = 'Red', markersize = 8 ) \r\n",
        "plt.title('The Elbow Method')\r\n",
        "plt.xlabel('Number of Clusters(K)')\r\n",
        "plt.ylabel('WCSS')    #Within cluster sum of squares\r\n",
        "plt.grid(True, color = 'gray', linestyle = '-')\r\n",
        "plt.show()"
      ],
      "execution_count": 12,
      "outputs": [
        {
          "output_type": "display_data",
          "data": {
            "image/png": "[encoded data removed]",
            "text/plain": [
              "<Figure size 720x360 with 1 Axes>"
            ]
          },
          "metadata": {
            "tags": [],
            "needs_background": "light"
          }
        }
      ]
    },
    {
      "cell_type": "markdown",
      "metadata": {
        "id": "ZqVzE4Vhz_10"
      },
      "source": [
        "Using Elbow method we can clearly see that the within cluster sum of squares (WCSS) doesn't decrease significantly with every iteration after 3. We consider it as optimum number of clusters.\r\n",
        "\r\n",
        "From this we choose the number of clusters as 3."
      ]
    },
    {
      "cell_type": "markdown",
      "metadata": {
        "id": "nMgw7ROP06yQ"
      },
      "source": [
        "# **Building our K-Means Classifier model**"
      ]
    },
    {
      "cell_type": "code",
      "metadata": {
        "colab": {
          "base_uri": "https://localhost:8080/"
        },
        "id": "3TpBEe7jZ1o1",
        "outputId": "78d683a2-4798-4127-ff07-122409845964"
      },
      "source": [
        "clusterNum = 3 \r\n",
        "k_means = KMeans(init = \"k-means++\", n_clusters = clusterNum, n_init = 12)\r\n",
        "k_means.fit(iris_df)"
      ],
      "execution_count": 13,
      "outputs": [
        {
          "output_type": "execute_result",
          "data": {
            "text/plain": [
              "KMeans(algorithm='auto', copy_x=True, init='k-means++', max_iter=300,\n",
              "       n_clusters=3, n_init=12, n_jobs=None, precompute_distances='auto',\n",
              "       random_state=None, tol=0.0001, verbose=0)"
            ]
          },
          "metadata": {
            "tags": []
          },
          "execution_count": 13
        }
      ]
    },
    {
      "cell_type": "code",
      "metadata": {
        "colab": {
          "base_uri": "https://localhost:8080/"
        },
        "id": "R23yATauas9f",
        "outputId": "3d85f7f4-0cbc-40ac-e96e-8f343d37ed2f"
      },
      "source": [
        "#Labelling cluster in dataset\r\n",
        "labels = k_means.labels_\r\n",
        "print(labels)"
      ],
      "execution_count": 14,
      "outputs": [
        {
          "output_type": "stream",
          "text": [
            "[1 1 1 1 1 1 1 1 1 1 1 1 1 1 1 1 1 1 1 1 1 1 1 1 1 1 1 1 1 1 1 1 1 1 1 1 1\n",
            " 1 1 1 1 1 1 1 1 1 1 1 1 1 0 0 2 0 0 0 0 0 0 0 0 0 0 0 0 0 0 0 0 0 0 0 0 0\n",
            " 0 0 0 2 0 0 0 0 0 0 0 0 0 0 0 0 0 0 0 0 0 0 0 0 0 0 2 0 2 2 2 2 0 2 2 2 2\n",
            " 2 2 0 0 2 2 2 2 0 2 0 2 0 2 2 0 0 2 2 2 2 2 0 2 2 2 2 0 2 2 2 0 2 2 2 0 2\n",
            " 2 0]\n"
          ],
          "name": "stdout"
        }
      ]
    },
    {
      "cell_type": "code",
      "metadata": {
        "colab": {
          "base_uri": "https://localhost:8080/"
        },
        "id": "rm3LeIHta3Ba",
        "outputId": "db2ace9f-315b-4fb3-cfa2-36961bafb6ad"
      },
      "source": [
        "#Centroid Value\r\n",
        "k_means_cluster_centers = k_means.cluster_centers_\r\n",
        "k_means_cluster_centers"
      ],
      "execution_count": 15,
      "outputs": [
        {
          "output_type": "execute_result",
          "data": {
            "text/plain": [
              "array([[5.9016129 , 2.7483871 , 4.39354839, 1.43387097],\n",
              "       [5.006     , 3.428     , 1.462     , 0.246     ],\n",
              "       [6.85      , 3.07368421, 5.74210526, 2.07105263]])"
            ]
          },
          "metadata": {
            "tags": []
          },
          "execution_count": 15
        }
      ]
    },
    {
      "cell_type": "code",
      "metadata": {
        "colab": {
          "base_uri": "https://localhost:8080/",
          "height": 204
        },
        "id": "v0-dnqTha6-C",
        "outputId": "d6d12ca2-fc0e-449d-9385-06d4babde2c1"
      },
      "source": [
        "iris_df[\"Clus_km\"] = labels   #Adding a new column to preserve labels\r\n",
        "iris_df.head()"
      ],
      "execution_count": 16,
      "outputs": [
        {
          "output_type": "execute_result",
          "data": {
            "text/html": [
              "<div>\n",
              "<style scoped>\n",
              "    .dataframe tbody tr th:only-of-type {\n",
              "        vertical-align: middle;\n",
              "    }\n",
              "\n",
              "    .dataframe tbody tr th {\n",
              "        vertical-align: top;\n",
              "    }\n",
              "\n",
              "    .dataframe thead th {\n",
              "        text-align: right;\n",
              "    }\n",
              "</style>\n",
              "<table border=\"1\" class=\"dataframe\">\n",
              "  <thead>\n",
              "    <tr style=\"text-align: right;\">\n",
              "      <th></th>\n",
              "      <th>sepal length (cm)</th>\n",
              "      <th>sepal width (cm)</th>\n",
              "      <th>petal length (cm)</th>\n",
              "      <th>petal width (cm)</th>\n",
              "      <th>Clus_km</th>\n",
              "    </tr>\n",
              "  </thead>\n",
              "  <tbody>\n",
              "    <tr>\n",
              "      <th>0</th>\n",
              "      <td>5.1</td>\n",
              "      <td>3.5</td>\n",
              "      <td>1.4</td>\n",
              "      <td>0.2</td>\n",
              "      <td>1</td>\n",
              "    </tr>\n",
              "    <tr>\n",
              "      <th>1</th>\n",
              "      <td>4.9</td>\n",
              "      <td>3.0</td>\n",
              "      <td>1.4</td>\n",
              "      <td>0.2</td>\n",
              "      <td>1</td>\n",
              "    </tr>\n",
              "    <tr>\n",
              "      <th>2</th>\n",
              "      <td>4.7</td>\n",
              "      <td>3.2</td>\n",
              "      <td>1.3</td>\n",
              "      <td>0.2</td>\n",
              "      <td>1</td>\n",
              "    </tr>\n",
              "    <tr>\n",
              "      <th>3</th>\n",
              "      <td>4.6</td>\n",
              "      <td>3.1</td>\n",
              "      <td>1.5</td>\n",
              "      <td>0.2</td>\n",
              "      <td>1</td>\n",
              "    </tr>\n",
              "    <tr>\n",
              "      <th>4</th>\n",
              "      <td>5.0</td>\n",
              "      <td>3.6</td>\n",
              "      <td>1.4</td>\n",
              "      <td>0.2</td>\n",
              "      <td>1</td>\n",
              "    </tr>\n",
              "  </tbody>\n",
              "</table>\n",
              "</div>"
            ],
            "text/plain": [
              "   sepal length (cm)  sepal width (cm)  ...  petal width (cm)  Clus_km\n",
              "0                5.1               3.5  ...               0.2        1\n",
              "1                4.9               3.0  ...               0.2        1\n",
              "2                4.7               3.2  ...               0.2        1\n",
              "3                4.6               3.1  ...               0.2        1\n",
              "4                5.0               3.6  ...               0.2        1\n",
              "\n",
              "[5 rows x 5 columns]"
            ]
          },
          "metadata": {
            "tags": []
          },
          "execution_count": 16
        }
      ]
    },
    {
      "cell_type": "code",
      "metadata": {
        "colab": {
          "base_uri": "https://localhost:8080/",
          "height": 173
        },
        "id": "yya4gPHgbGc3",
        "outputId": "2368c7c2-6e0f-4fb6-9653-f6556cba90af"
      },
      "source": [
        "iris_df.groupby('Clus_km').mean()"
      ],
      "execution_count": 17,
      "outputs": [
        {
          "output_type": "execute_result",
          "data": {
            "text/html": [
              "<div>\n",
              "<style scoped>\n",
              "    .dataframe tbody tr th:only-of-type {\n",
              "        vertical-align: middle;\n",
              "    }\n",
              "\n",
              "    .dataframe tbody tr th {\n",
              "        vertical-align: top;\n",
              "    }\n",
              "\n",
              "    .dataframe thead th {\n",
              "        text-align: right;\n",
              "    }\n",
              "</style>\n",
              "<table border=\"1\" class=\"dataframe\">\n",
              "  <thead>\n",
              "    <tr style=\"text-align: right;\">\n",
              "      <th></th>\n",
              "      <th>sepal length (cm)</th>\n",
              "      <th>sepal width (cm)</th>\n",
              "      <th>petal length (cm)</th>\n",
              "      <th>petal width (cm)</th>\n",
              "    </tr>\n",
              "    <tr>\n",
              "      <th>Clus_km</th>\n",
              "      <th></th>\n",
              "      <th></th>\n",
              "      <th></th>\n",
              "      <th></th>\n",
              "    </tr>\n",
              "  </thead>\n",
              "  <tbody>\n",
              "    <tr>\n",
              "      <th>0</th>\n",
              "      <td>5.901613</td>\n",
              "      <td>2.748387</td>\n",
              "      <td>4.393548</td>\n",
              "      <td>1.433871</td>\n",
              "    </tr>\n",
              "    <tr>\n",
              "      <th>1</th>\n",
              "      <td>5.006000</td>\n",
              "      <td>3.428000</td>\n",
              "      <td>1.462000</td>\n",
              "      <td>0.246000</td>\n",
              "    </tr>\n",
              "    <tr>\n",
              "      <th>2</th>\n",
              "      <td>6.850000</td>\n",
              "      <td>3.073684</td>\n",
              "      <td>5.742105</td>\n",
              "      <td>2.071053</td>\n",
              "    </tr>\n",
              "  </tbody>\n",
              "</table>\n",
              "</div>"
            ],
            "text/plain": [
              "         sepal length (cm)  ...  petal width (cm)\n",
              "Clus_km                     ...                  \n",
              "0                 5.901613  ...          1.433871\n",
              "1                 5.006000  ...          0.246000\n",
              "2                 6.850000  ...          2.071053\n",
              "\n",
              "[3 rows x 4 columns]"
            ]
          },
          "metadata": {
            "tags": []
          },
          "execution_count": 17
        }
      ]
    },
    {
      "cell_type": "markdown",
      "metadata": {
        "id": "bJY1N4HE13EJ"
      },
      "source": [
        "# **Visualising Clusters**"
      ]
    },
    {
      "cell_type": "code",
      "metadata": {
        "id": "phpGLQpMdErb"
      },
      "source": [
        "import numpy as np \r\n",
        "import matplotlib.pyplot as plt \r\n",
        "from sklearn.cluster import KMeans  "
      ],
      "execution_count": 18,
      "outputs": []
    },
    {
      "cell_type": "code",
      "metadata": {
        "id": "pJSDi_GJeBB_"
      },
      "source": [
        "iris_df = iris_df.values"
      ],
      "execution_count": 19,
      "outputs": []
    },
    {
      "cell_type": "code",
      "metadata": {
        "id": "7n1qhXrThQ2V"
      },
      "source": [
        "import matplotlib.patches as mpatches\r\n",
        "import matplotlib as mpl\r\n",
        "mpl.style.use('ggplot')"
      ],
      "execution_count": 20,
      "outputs": []
    },
    {
      "cell_type": "code",
      "metadata": {
        "colab": {
          "base_uri": "https://localhost:8080/",
          "height": 554
        },
        "id": "qoUKNjpFeX0t",
        "outputId": "51f0158d-46ce-4fb0-e8bf-7f52aa338ad3"
      },
      "source": [
        "#Initialize the plot with the specified dimensions.\r\n",
        "fig = plt.figure(figsize=(12 , 8))\r\n",
        "\r\n",
        "colors = np.array(['red', 'green', 'blue'])\r\n",
        "iris_targets_legend = np.array(iris.target_names)\r\n",
        "red_patch = mpatches.Patch(color='red', label='Setosa')\r\n",
        "green_patch = mpatches.Patch(color='green', label='Versicolor')\r\n",
        "blue_patch = mpatches.Patch(color='blue', label='Virginica')\r\n",
        "black_patch = mpatches.Patch(color='black', label='Centroids')\r\n",
        "\r\n",
        "plt.legend(handles=[red_patch, green_patch, blue_patch, black_patch])\r\n",
        "\r\n",
        "\r\n",
        "#Create a plot\r\n",
        "ax = fig.add_subplot(1, 1, 1)\r\n",
        "\r\n",
        "for k, col in zip(range(len([[4,4], [-2, -1], [2, -3], [1, 1]])), colors):\r\n",
        "\r\n",
        "    my_members = (labels == k)\r\n",
        "    \r\n",
        "    #Define the centroid, or cluster center.\r\n",
        "    cluster_center = k_means_cluster_centers[k]\r\n",
        "    \r\n",
        "    #Plots the datapoints with color col.\r\n",
        "    ax.plot(iris_df[my_members, 0], iris_df[my_members, 1], 'None', markerfacecolor=col, marker='.', markeredgecolor='None', markersize= 20)\r\n",
        "    \r\n",
        "    #Plots the centroids with specified color, but with a darker outline\r\n",
        "    ax.plot(cluster_center[0], cluster_center[1], 'o', markerfacecolor='black',  markeredgecolor='black', markersize= 18)\r\n",
        "\r\n",
        "#Title of the plot\r\n",
        "ax.set_title('KMeans Clustering using Iris dataset')\r\n",
        "\r\n",
        "#Show the plot\r\n",
        "plt.show()\r\n"
      ],
      "execution_count": 21,
      "outputs": [
        {
          "output_type": "stream",
          "text": [
            "/usr/local/lib/python3.6/dist-packages/ipykernel_launcher.py:15: MatplotlibDeprecationWarning: Adding an axes using the same arguments as a previous axes currently reuses the earlier instance.  In a future version, a new instance will always be created and returned.  Meanwhile, this warning can be suppressed, and the future behavior ensured, by passing a unique label to each axes instance.\n",
            "  from ipykernel import kernelapp as app\n"
          ],
          "name": "stderr"
        },
        {
          "output_type": "display_data",
          "data": {
            "image/png": "[encoded data removed]",
            "text/plain": [
              "<Figure size 864x576 with 1 Axes>"
            ]
          },
          "metadata": {
            "tags": []
          }
        }
      ]
    },
    {
      "cell_type": "markdown",
      "metadata": {
        "id": "aXn0g8x62mpJ"
      },
      "source": [
        "From above, we can see our data are divided into 3 distinct clusters and each of them has their own centroid. That is how we can classify our data using K-Means clustering. "
      ]
    }
  ]
}